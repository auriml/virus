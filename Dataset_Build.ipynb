{
 "cells": [
  {
   "cell_type": "code",
   "execution_count": 1,
   "metadata": {
    "collapsed": true
   },
   "outputs": [],
   "source": [
    "import pandas as pd\n",
    "import numpy as np\n",
    "import Bio\n",
    "from Bio.Seq import Seq\n",
    "from Bio import SeqIO\n",
    "import gzip"
   ]
  },
  {
   "cell_type": "code",
   "execution_count": 2,
   "metadata": {},
   "outputs": [
    {
     "data": {
      "text/html": [
       "<div>\n",
       "<style scoped>\n",
       "    .dataframe tbody tr th:only-of-type {\n",
       "        vertical-align: middle;\n",
       "    }\n",
       "\n",
       "    .dataframe tbody tr th {\n",
       "        vertical-align: top;\n",
       "    }\n",
       "\n",
       "    .dataframe thead th {\n",
       "        text-align: right;\n",
       "    }\n",
       "</style>\n",
       "<table border=\"1\" class=\"dataframe\">\n",
       "  <thead>\n",
       "    <tr style=\"text-align: right;\">\n",
       "      <th></th>\n",
       "      <th>ID</th>\n",
       "      <th>description</th>\n",
       "      <th>host</th>\n",
       "      <th>seq</th>\n",
       "      <th>disease</th>\n",
       "      <th>disease_location</th>\n",
       "    </tr>\n",
       "  </thead>\n",
       "  <tbody>\n",
       "  </tbody>\n",
       "</table>\n",
       "</div>"
      ],
      "text/plain": [
       "Empty DataFrame\n",
       "Columns: [ID, description, host, seq, disease, disease_location]\n",
       "Index: []"
      ]
     },
     "execution_count": 2,
     "metadata": {},
     "output_type": "execute_result"
    }
   ],
   "source": [
    "# create annotated virus dataframe\n",
    "df = pd.DataFrame(columns = ['ID', 'description', 'host', 'seq', 'disease', 'disease_location'])\n",
    "df"
   ]
  },
  {
   "cell_type": "code",
   "execution_count": 3,
   "metadata": {},
   "outputs": [
    {
     "name": "stdout",
     "output_type": "stream",
     "text": [
      "NC_001798.2 Human herpesvirus 2 strain HG52, complete genome\n",
      "NC_030692.1 Borna disease virus 2, complete genome\n",
      "NC_027892.1 Canary bornavirus 2, complete cds\n",
      "NC_029642.1 Aquatic bird bornavirus 1, complete genome\n",
      "NC_001607.1 Borna disease virus 1, complete sequence\n",
      "NC_001422.1 Coliphage phi-X174, complete genome\n"
     ]
    }
   ],
   "source": [
    "#After downloading viral genomes from NCBI, then load viral seq in fasta format \n",
    "#This is only an example loading one of the files with n viral genomes in fasta format, but all files need to be loaded (TODO)\n",
    "for record in SeqIO.parse(\"viral.1.1.genomic.fna\", 'fasta'):\n",
    "    print(record.description)\n",
    "    df = df.append({'ID': record.id, 'description': record.description, 'seq': record.seq }, ignore_index = True)"
   ]
  },
  {
   "cell_type": "code",
   "execution_count": 4,
   "metadata": {},
   "outputs": [
    {
     "data": {
      "text/html": [
       "<div>\n",
       "<style scoped>\n",
       "    .dataframe tbody tr th:only-of-type {\n",
       "        vertical-align: middle;\n",
       "    }\n",
       "\n",
       "    .dataframe tbody tr th {\n",
       "        vertical-align: top;\n",
       "    }\n",
       "\n",
       "    .dataframe thead th {\n",
       "        text-align: right;\n",
       "    }\n",
       "</style>\n",
       "<table border=\"1\" class=\"dataframe\">\n",
       "  <thead>\n",
       "    <tr style=\"text-align: right;\">\n",
       "      <th></th>\n",
       "      <th>ID</th>\n",
       "      <th>description</th>\n",
       "      <th>host</th>\n",
       "      <th>seq</th>\n",
       "      <th>disease</th>\n",
       "      <th>disease_location</th>\n",
       "    </tr>\n",
       "  </thead>\n",
       "  <tbody>\n",
       "    <tr>\n",
       "      <th>0</th>\n",
       "      <td>NC_001798.2</td>\n",
       "      <td>NC_001798.2 Human herpesvirus 2 strain HG52, c...</td>\n",
       "      <td>NaN</td>\n",
       "      <td>(A, G, T, C, C, C, C, G, T, C, T, T, G, C, C, ...</td>\n",
       "      <td>NaN</td>\n",
       "      <td>NaN</td>\n",
       "    </tr>\n",
       "    <tr>\n",
       "      <th>1</th>\n",
       "      <td>NC_030692.1</td>\n",
       "      <td>NC_030692.1 Borna disease virus 2, complete ge...</td>\n",
       "      <td>NaN</td>\n",
       "      <td>(T, G, T, T, G, C, G, T, T, A, A, C, A, A, C, ...</td>\n",
       "      <td>NaN</td>\n",
       "      <td>NaN</td>\n",
       "    </tr>\n",
       "    <tr>\n",
       "      <th>2</th>\n",
       "      <td>NC_027892.1</td>\n",
       "      <td>NC_027892.1 Canary bornavirus 2, complete cds</td>\n",
       "      <td>NaN</td>\n",
       "      <td>(C, A, G, C, T, C, T, C, G, C, A, C, C, A, A, ...</td>\n",
       "      <td>NaN</td>\n",
       "      <td>NaN</td>\n",
       "    </tr>\n",
       "    <tr>\n",
       "      <th>3</th>\n",
       "      <td>NC_029642.1</td>\n",
       "      <td>NC_029642.1 Aquatic bird bornavirus 1, complet...</td>\n",
       "      <td>NaN</td>\n",
       "      <td>(T, G, T, T, G, C, G, T, T, A, A, C, A, A, C, ...</td>\n",
       "      <td>NaN</td>\n",
       "      <td>NaN</td>\n",
       "    </tr>\n",
       "    <tr>\n",
       "      <th>4</th>\n",
       "      <td>NC_001607.1</td>\n",
       "      <td>NC_001607.1 Borna disease virus 1, complete se...</td>\n",
       "      <td>NaN</td>\n",
       "      <td>(G, T, T, G, C, G, T, T, A, A, C, A, A, C, A, ...</td>\n",
       "      <td>NaN</td>\n",
       "      <td>NaN</td>\n",
       "    </tr>\n",
       "  </tbody>\n",
       "</table>\n",
       "</div>"
      ],
      "text/plain": [
       "            ID                                        description host  \\\n",
       "0  NC_001798.2  NC_001798.2 Human herpesvirus 2 strain HG52, c...  NaN   \n",
       "1  NC_030692.1  NC_030692.1 Borna disease virus 2, complete ge...  NaN   \n",
       "2  NC_027892.1      NC_027892.1 Canary bornavirus 2, complete cds  NaN   \n",
       "3  NC_029642.1  NC_029642.1 Aquatic bird bornavirus 1, complet...  NaN   \n",
       "4  NC_001607.1  NC_001607.1 Borna disease virus 1, complete se...  NaN   \n",
       "\n",
       "                                                 seq disease disease_location  \n",
       "0  (A, G, T, C, C, C, C, G, T, C, T, T, G, C, C, ...     NaN              NaN  \n",
       "1  (T, G, T, T, G, C, G, T, T, A, A, C, A, A, C, ...     NaN              NaN  \n",
       "2  (C, A, G, C, T, C, T, C, G, C, A, C, C, A, A, ...     NaN              NaN  \n",
       "3  (T, G, T, T, G, C, G, T, T, A, A, C, A, A, C, ...     NaN              NaN  \n",
       "4  (G, T, T, G, C, G, T, T, A, A, C, A, A, C, A, ...     NaN              NaN  "
      ]
     },
     "execution_count": 4,
     "metadata": {},
     "output_type": "execute_result"
    }
   ],
   "source": [
    "df.head()"
   ]
  },
  {
   "cell_type": "code",
   "execution_count": 9,
   "metadata": {},
   "outputs": [
    {
     "ename": "AssertionError",
     "evalue": "LOCUS       NC_001798             154675 bp    DNA     linear   VRL 16-MAY-2016",
     "output_type": "error",
     "traceback": [
      "\u001b[0;31m---------------------------------------------------------------------------\u001b[0m",
      "\u001b[0;31mAssertionError\u001b[0m                            Traceback (most recent call last)",
      "\u001b[0;32m<ipython-input-9-861bee195da3>\u001b[0m in \u001b[0;36m<module>\u001b[0;34m()\u001b[0m\n\u001b[1;32m      6\u001b[0m \u001b[0;34m\u001b[0m\u001b[0m\n\u001b[1;32m      7\u001b[0m \u001b[0min_handle\u001b[0m \u001b[0;34m=\u001b[0m \u001b[0mopen\u001b[0m\u001b[0;34m(\u001b[0m\u001b[0min_file\u001b[0m\u001b[0;34m)\u001b[0m\u001b[0;34m\u001b[0m\u001b[0;34m\u001b[0m\u001b[0m\n\u001b[0;32m----> 8\u001b[0;31m \u001b[0;32mfor\u001b[0m \u001b[0mrec\u001b[0m \u001b[0;32min\u001b[0m \u001b[0mGFF\u001b[0m\u001b[0;34m.\u001b[0m\u001b[0mparse\u001b[0m\u001b[0;34m(\u001b[0m\u001b[0min_handle\u001b[0m\u001b[0;34m)\u001b[0m\u001b[0;34m:\u001b[0m\u001b[0;34m\u001b[0m\u001b[0;34m\u001b[0m\u001b[0m\n\u001b[0m\u001b[1;32m      9\u001b[0m     \u001b[0mprint\u001b[0m \u001b[0;34m(\u001b[0m\u001b[0mrec\u001b[0m\u001b[0;34m)\u001b[0m\u001b[0;34m\u001b[0m\u001b[0;34m\u001b[0m\u001b[0m\n\u001b[1;32m     10\u001b[0m \u001b[0min_handle\u001b[0m\u001b[0;34m.\u001b[0m\u001b[0mclose\u001b[0m\u001b[0;34m(\u001b[0m\u001b[0;34m)\u001b[0m\u001b[0;34m\u001b[0m\u001b[0;34m\u001b[0m\u001b[0m\n",
      "\u001b[0;32m/home/auri/anaconda3/lib/python3.6/site-packages/BCBio/GFF/GFFParser.py\u001b[0m in \u001b[0;36mparse\u001b[0;34m(gff_files, base_dict, limit_info, target_lines)\u001b[0m\n\u001b[1;32m    744\u001b[0m     \u001b[0mparser\u001b[0m \u001b[0;34m=\u001b[0m \u001b[0mGFFParser\u001b[0m\u001b[0;34m(\u001b[0m\u001b[0;34m)\u001b[0m\u001b[0;34m\u001b[0m\u001b[0;34m\u001b[0m\u001b[0m\n\u001b[1;32m    745\u001b[0m     for rec in parser.parse_in_parts(gff_files, base_dict, limit_info,\n\u001b[0;32m--> 746\u001b[0;31m             target_lines):\n\u001b[0m\u001b[1;32m    747\u001b[0m         \u001b[0;32myield\u001b[0m \u001b[0mrec\u001b[0m\u001b[0;34m\u001b[0m\u001b[0;34m\u001b[0m\u001b[0m\n\u001b[1;32m    748\u001b[0m \u001b[0;34m\u001b[0m\u001b[0m\n",
      "\u001b[0;32m/home/auri/anaconda3/lib/python3.6/site-packages/BCBio/GFF/GFFParser.py\u001b[0m in \u001b[0;36mparse_in_parts\u001b[0;34m(self, gff_files, base_dict, limit_info, target_lines)\u001b[0m\n\u001b[1;32m    320\u001b[0m         \u001b[0mmemory\u001b[0m\u001b[0;34m.\u001b[0m\u001b[0;34m\u001b[0m\u001b[0;34m\u001b[0m\u001b[0m\n\u001b[1;32m    321\u001b[0m         \"\"\"\n\u001b[0;32m--> 322\u001b[0;31m         \u001b[0;32mfor\u001b[0m \u001b[0mresults\u001b[0m \u001b[0;32min\u001b[0m \u001b[0mself\u001b[0m\u001b[0;34m.\u001b[0m\u001b[0mparse_simple\u001b[0m\u001b[0;34m(\u001b[0m\u001b[0mgff_files\u001b[0m\u001b[0;34m,\u001b[0m \u001b[0mlimit_info\u001b[0m\u001b[0;34m,\u001b[0m \u001b[0mtarget_lines\u001b[0m\u001b[0;34m)\u001b[0m\u001b[0;34m:\u001b[0m\u001b[0;34m\u001b[0m\u001b[0;34m\u001b[0m\u001b[0m\n\u001b[0m\u001b[1;32m    323\u001b[0m             \u001b[0;32mif\u001b[0m \u001b[0mbase_dict\u001b[0m \u001b[0;32mis\u001b[0m \u001b[0;32mNone\u001b[0m\u001b[0;34m:\u001b[0m\u001b[0;34m\u001b[0m\u001b[0;34m\u001b[0m\u001b[0m\n\u001b[1;32m    324\u001b[0m                 \u001b[0mcur_dict\u001b[0m \u001b[0;34m=\u001b[0m \u001b[0mdict\u001b[0m\u001b[0;34m(\u001b[0m\u001b[0;34m)\u001b[0m\u001b[0;34m\u001b[0m\u001b[0;34m\u001b[0m\u001b[0m\n",
      "\u001b[0;32m/home/auri/anaconda3/lib/python3.6/site-packages/BCBio/GFF/GFFParser.py\u001b[0m in \u001b[0;36mparse_simple\u001b[0;34m(self, gff_files, limit_info, target_lines)\u001b[0m\n\u001b[1;32m    341\u001b[0m             \u001b[0mgff_files\u001b[0m \u001b[0;34m=\u001b[0m \u001b[0;34m[\u001b[0m\u001b[0mgff_files\u001b[0m\u001b[0;34m]\u001b[0m\u001b[0;34m\u001b[0m\u001b[0;34m\u001b[0m\u001b[0m\n\u001b[1;32m    342\u001b[0m         \u001b[0mlimit_info\u001b[0m \u001b[0;34m=\u001b[0m \u001b[0mself\u001b[0m\u001b[0;34m.\u001b[0m\u001b[0m_normalize_limit_info\u001b[0m\u001b[0;34m(\u001b[0m\u001b[0mlimit_info\u001b[0m\u001b[0;34m)\u001b[0m\u001b[0;34m\u001b[0m\u001b[0;34m\u001b[0m\u001b[0m\n\u001b[0;32m--> 343\u001b[0;31m         \u001b[0;32mfor\u001b[0m \u001b[0mresults\u001b[0m \u001b[0;32min\u001b[0m \u001b[0mself\u001b[0m\u001b[0;34m.\u001b[0m\u001b[0m_gff_process\u001b[0m\u001b[0;34m(\u001b[0m\u001b[0mgff_files\u001b[0m\u001b[0;34m,\u001b[0m \u001b[0mlimit_info\u001b[0m\u001b[0;34m,\u001b[0m \u001b[0mtarget_lines\u001b[0m\u001b[0;34m)\u001b[0m\u001b[0;34m:\u001b[0m\u001b[0;34m\u001b[0m\u001b[0;34m\u001b[0m\u001b[0m\n\u001b[0m\u001b[1;32m    344\u001b[0m             \u001b[0;32myield\u001b[0m \u001b[0mresults\u001b[0m\u001b[0;34m\u001b[0m\u001b[0;34m\u001b[0m\u001b[0m\n\u001b[1;32m    345\u001b[0m \u001b[0;34m\u001b[0m\u001b[0m\n",
      "\u001b[0;32m/home/auri/anaconda3/lib/python3.6/site-packages/BCBio/GFF/GFFParser.py\u001b[0m in \u001b[0;36m_gff_process\u001b[0;34m(self, gff_files, limit_info, target_lines)\u001b[0m\n\u001b[1;32m    635\u001b[0m         \"\"\"\n\u001b[1;32m    636\u001b[0m         \u001b[0mline_gen\u001b[0m \u001b[0;34m=\u001b[0m \u001b[0mself\u001b[0m\u001b[0;34m.\u001b[0m\u001b[0m_file_line_generator\u001b[0m\u001b[0;34m(\u001b[0m\u001b[0mgff_files\u001b[0m\u001b[0;34m)\u001b[0m\u001b[0;34m\u001b[0m\u001b[0;34m\u001b[0m\u001b[0m\n\u001b[0;32m--> 637\u001b[0;31m         \u001b[0;32mfor\u001b[0m \u001b[0mout\u001b[0m \u001b[0;32min\u001b[0m \u001b[0mself\u001b[0m\u001b[0;34m.\u001b[0m\u001b[0m_lines_to_out_info\u001b[0m\u001b[0;34m(\u001b[0m\u001b[0mline_gen\u001b[0m\u001b[0;34m,\u001b[0m \u001b[0mlimit_info\u001b[0m\u001b[0;34m,\u001b[0m \u001b[0mtarget_lines\u001b[0m\u001b[0;34m)\u001b[0m\u001b[0;34m:\u001b[0m\u001b[0;34m\u001b[0m\u001b[0;34m\u001b[0m\u001b[0m\n\u001b[0m\u001b[1;32m    638\u001b[0m             \u001b[0;32myield\u001b[0m \u001b[0mout\u001b[0m\u001b[0;34m\u001b[0m\u001b[0;34m\u001b[0m\u001b[0m\n\u001b[1;32m    639\u001b[0m \u001b[0;34m\u001b[0m\u001b[0m\n",
      "\u001b[0;32m/home/auri/anaconda3/lib/python3.6/site-packages/BCBio/GFF/GFFParser.py\u001b[0m in \u001b[0;36m_lines_to_out_info\u001b[0;34m(self, line_iter, limit_info, target_lines)\u001b[0m\n\u001b[1;32m    665\u001b[0m         \u001b[0mfound_seqs\u001b[0m \u001b[0;34m=\u001b[0m \u001b[0;32mFalse\u001b[0m\u001b[0;34m\u001b[0m\u001b[0;34m\u001b[0m\u001b[0m\n\u001b[1;32m    666\u001b[0m         \u001b[0;32mfor\u001b[0m \u001b[0mline\u001b[0m \u001b[0;32min\u001b[0m \u001b[0mline_iter\u001b[0m\u001b[0;34m:\u001b[0m\u001b[0;34m\u001b[0m\u001b[0;34m\u001b[0m\u001b[0m\n\u001b[0;32m--> 667\u001b[0;31m             \u001b[0mresults\u001b[0m \u001b[0;34m=\u001b[0m \u001b[0mself\u001b[0m\u001b[0;34m.\u001b[0m\u001b[0m_map_fn\u001b[0m\u001b[0;34m(\u001b[0m\u001b[0mline\u001b[0m\u001b[0;34m,\u001b[0m \u001b[0mparams\u001b[0m\u001b[0;34m)\u001b[0m\u001b[0;34m\u001b[0m\u001b[0;34m\u001b[0m\u001b[0m\n\u001b[0m\u001b[1;32m    668\u001b[0m             \u001b[0;32mif\u001b[0m \u001b[0mself\u001b[0m\u001b[0;34m.\u001b[0m\u001b[0m_line_adjust_fn\u001b[0m \u001b[0;32mand\u001b[0m \u001b[0mresults\u001b[0m\u001b[0;34m:\u001b[0m\u001b[0;34m\u001b[0m\u001b[0;34m\u001b[0m\u001b[0m\n\u001b[1;32m    669\u001b[0m                 \u001b[0;32mif\u001b[0m \u001b[0mresults\u001b[0m\u001b[0;34m[\u001b[0m\u001b[0;36m0\u001b[0m\u001b[0;34m]\u001b[0m\u001b[0;34m[\u001b[0m\u001b[0;36m0\u001b[0m\u001b[0;34m]\u001b[0m \u001b[0;32mnot\u001b[0m \u001b[0;32min\u001b[0m \u001b[0;34m[\u001b[0m\u001b[0;34m'directive'\u001b[0m\u001b[0;34m]\u001b[0m\u001b[0;34m:\u001b[0m\u001b[0;34m\u001b[0m\u001b[0;34m\u001b[0m\u001b[0m\n",
      "\u001b[0;32m/home/auri/anaconda3/lib/python3.6/site-packages/BCBio/GFF/GFFParser.py\u001b[0m in \u001b[0;36m_gff_line_map\u001b[0;34m(line, params)\u001b[0m\n\u001b[1;32m    175\u001b[0m                     \u001b[0;32mbreak\u001b[0m\u001b[0;34m\u001b[0m\u001b[0;34m\u001b[0m\u001b[0m\n\u001b[1;32m    176\u001b[0m         \u001b[0;32mif\u001b[0m \u001b[0mshould_do\u001b[0m\u001b[0;34m:\u001b[0m\u001b[0;34m\u001b[0m\u001b[0;34m\u001b[0m\u001b[0m\n\u001b[0;32m--> 177\u001b[0;31m             \u001b[0;32massert\u001b[0m \u001b[0mlen\u001b[0m\u001b[0;34m(\u001b[0m\u001b[0mparts\u001b[0m\u001b[0;34m)\u001b[0m \u001b[0;34m>=\u001b[0m \u001b[0;36m8\u001b[0m\u001b[0;34m,\u001b[0m \u001b[0mline\u001b[0m\u001b[0;34m\u001b[0m\u001b[0;34m\u001b[0m\u001b[0m\n\u001b[0m\u001b[1;32m    178\u001b[0m             \u001b[0;31m# not python2.4 compatible but easier to understand\u001b[0m\u001b[0;34m\u001b[0m\u001b[0;34m\u001b[0m\u001b[0;34m\u001b[0m\u001b[0m\n\u001b[1;32m    179\u001b[0m             \u001b[0;31m#gff_parts = [(None if p == '.' else p) for p in parts]\u001b[0m\u001b[0;34m\u001b[0m\u001b[0;34m\u001b[0m\u001b[0;34m\u001b[0m\u001b[0m\n",
      "\u001b[0;31mAssertionError\u001b[0m: LOCUS       NC_001798             154675 bp    DNA     linear   VRL 16-MAY-2016"
     ]
    }
   ],
   "source": [
    "# Annotation of host: open 'viral.1.genomic.gbff.gz' using https://github.com/daler/gffutils and extract /host=\"Homo sapiens\" (TODO)\n",
    "\n",
    "from BCBio import GFF\n",
    "\n",
    "in_file = \"viral.1.genomic.gbff\"\n",
    "\n",
    "in_handle = open(in_file)\n",
    "for rec in GFF.parse(in_handle):\n",
    "    print (rec)\n",
    "in_handle.close()"
   ]
  },
  {
   "cell_type": "code",
   "execution_count": 17,
   "metadata": {},
   "outputs": [
    {
     "name": "stdout",
     "output_type": "stream",
     "text": [
      "['Homo sapiens']\n",
      "['horse brain']\n",
      "['Serinus canaria f. domestica (canary)']\n",
      "['Canada goose']\n",
      "['Equus']\n"
     ]
    },
    {
     "name": "stderr",
     "output_type": "stream",
     "text": [
      "/home/auri/anaconda3/lib/python3.6/site-packages/ipykernel_launcher.py:1: DeprecationWarning: 'U' mode is deprecated\n",
      "  \"\"\"Entry point for launching an IPython kernel.\n"
     ]
    }
   ],
   "source": [
    "for record in SeqIO.parse(open(in_file, \"rU\"), \"genbank\") :\n",
    "        for feature in record.features:\n",
    "            if feature.type == 'source':\n",
    "                try:\n",
    "                    print(feature.qualifiers['host'])\n",
    "                except:\n",
    "                    pass"
   ]
  },
  {
   "cell_type": "code",
   "execution_count": 6,
   "metadata": {},
   "outputs": [
    {
     "data": {
      "text/html": [
       "<div>\n",
       "<style scoped>\n",
       "    .dataframe tbody tr th:only-of-type {\n",
       "        vertical-align: middle;\n",
       "    }\n",
       "\n",
       "    .dataframe tbody tr th {\n",
       "        vertical-align: top;\n",
       "    }\n",
       "\n",
       "    .dataframe thead th {\n",
       "        text-align: right;\n",
       "    }\n",
       "</style>\n",
       "<table border=\"1\" class=\"dataframe\">\n",
       "  <thead>\n",
       "    <tr style=\"text-align: right;\">\n",
       "      <th></th>\n",
       "      <th>ID</th>\n",
       "      <th>substance</th>\n",
       "      <th>SMILE</th>\n",
       "      <th>3D_struct</th>\n",
       "      <th>virus_ID</th>\n",
       "    </tr>\n",
       "  </thead>\n",
       "  <tbody>\n",
       "  </tbody>\n",
       "</table>\n",
       "</div>"
      ],
      "text/plain": [
       "Empty DataFrame\n",
       "Columns: [ID, substance, SMILE, 3D_struct, virus_ID]\n",
       "Index: []"
      ]
     },
     "execution_count": 6,
     "metadata": {},
     "output_type": "execute_result"
    }
   ],
   "source": [
    "# Annotation of antiviral drugs using data from PUBCHEM  (TODO)\n",
    "# create annotated antiviral drugs dataframe\n",
    "drug_df = pd.DataFrame(columns = ['ID', 'substance', 'SMILE', '3D_struct', 'virus_ID'])\n",
    "drug_df\n"
   ]
  },
  {
   "cell_type": "code",
   "execution_count": null,
   "metadata": {
    "collapsed": true
   },
   "outputs": [],
   "source": []
  }
 ],
 "metadata": {
  "kernelspec": {
   "display_name": "Python 3",
   "language": "python",
   "name": "python3"
  },
  "language_info": {
   "codemirror_mode": {
    "name": "ipython",
    "version": 3
   },
   "file_extension": ".py",
   "mimetype": "text/x-python",
   "name": "python",
   "nbconvert_exporter": "python",
   "pygments_lexer": "ipython3",
   "version": "3.6.9"
  }
 },
 "nbformat": 4,
 "nbformat_minor": 2
}
